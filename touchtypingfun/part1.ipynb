{
 "cells": [
  {
   "cell_type": "markdown",
   "id": "01285637-dd06-41b6-9639-84ebd9fa4dd9",
   "metadata": {},
   "source": [
    "# 第一章 编程就是告诉计算机接受某种输入，然后照程序说的做。怎么让他接受输入？鼠标点按钮！对，按钮，我们做个按钮！"
   ]
  },
  {
   "cell_type": "markdown",
   "id": "3bac0cf4-7c17-4022-9fa1-0390736473b5",
   "metadata": {},
   "source": [
    "![](images/system.jpg)"
   ]
  },
  {
   "cell_type": "markdown",
   "id": "1f9f1f63-e808-46d3-931e-6dd5aef0079e",
   "metadata": {},
   "source": [
    "计算机（电脑）是一个系统，系统是管理输入和输出的一个整体。我们平时使用电脑，用鼠标和键盘（有时候还用话筒和摄像头）来输入信息，电脑则用屏幕和音响来输出结果。打游戏或工作的时候我们也不太关心电脑机箱里面到底在干什么，只管我们看到和听到的输出结果。\n",
    "但是！\n",
    "\n",
    "程序员就不同了！\n",
    "\n",
    "电脑在机箱里面该干些什么，是程序员说了算！\n",
    "\n",
    "厉不厉害！\n",
    "\n",
    "那么在这一章，我们就做这个！"
   ]
  },
  {
   "cell_type": "markdown",
   "id": "8c5a8b6d-fc64-4be8-b2b8-35b5f5cc3657",
   "metadata": {},
   "source": [
    "现在，请用文本编辑器打开第一章被用来实行神圣仪式的文件，“index.html”。\n",
    "\n",
    "Windows 电脑用鼠标右键点击，选择用文本编辑器打开。苹果电脑也是右键菜单，选择“文本编辑”软件打开。\n",
    "> 注：我们以后会稍微专业一点，把Windows电脑直接就叫 Windows 系统，苹果电脑叫 macOS 系统，这是电脑的操作系统（Operation System）的名字。"
   ]
  },
  {
   "cell_type": "markdown",
   "id": "7475caad-8cd3-42c2-b7d5-490a33d29f17",
   "metadata": {},
   "source": [
    "打开后，它应该长这样："
   ]
  },
  {
   "cell_type": "code",
   "execution_count": 4,
   "id": "3771c4da-0c05-431f-91ac-1ab9f8841bfa",
   "metadata": {},
   "outputs": [
    {
     "ename": "SyntaxError",
     "evalue": "invalid syntax (<ipython-input-4-bef7dd9ae245>, line 1)",
     "output_type": "error",
     "traceback": [
      "\u001b[1;36m  File \u001b[1;32m\"<ipython-input-4-bef7dd9ae245>\"\u001b[1;36m, line \u001b[1;32m1\u001b[0m\n\u001b[1;33m    <!DOCTYPE html>\u001b[0m\n\u001b[1;37m    ^\u001b[0m\n\u001b[1;31mSyntaxError\u001b[0m\u001b[1;31m:\u001b[0m invalid syntax\n"
     ]
    }
   ],
   "source": [
    "<!DOCTYPE html>\n",
    "<html>\n",
    "\t<head>\n",
    "\t\t<meta charset=\"utf-8\">\n",
    "\t\t<title>Hello World 1</title>\n",
    "\t</head>\n",
    "\t<body>\n",
    "\t\t<p>Hello World 2</p>\n",
    "\t\t<script>\n",
    "\t\talert('Hello World 3');\n",
    "\t\t</script>\n",
    "\t</body>\n",
    "</html>"
   ]
  },
  {
   "cell_type": "markdown",
   "id": "83709ff8-34e5-4f1e-98d6-98f9693119fd",
   "metadata": {},
   "source": [
    "我们这一章要学怎么告诉电脑该做什么。\n",
    "\n",
    "我们手里的输入工具有：键盘和鼠标。新手小白最熟悉的应该是鼠标。鼠标可以点屏幕上出现的各种按钮。\n",
    "\n",
    "那我们现在就来写个按钮：\n",
    "\n",
    "让我们把下面这一行添加到“Hello World 2“下面去："
   ]
  },
  {
   "cell_type": "code",
   "execution_count": 6,
   "id": "d88cfb26-6c27-4c62-84f8-b1be55795ec1",
   "metadata": {},
   "outputs": [
    {
     "ename": "SyntaxError",
     "evalue": "invalid syntax (<ipython-input-6-0c7b71e9b6e8>, line 1)",
     "output_type": "error",
     "traceback": [
      "\u001b[1;36m  File \u001b[1;32m\"<ipython-input-6-0c7b71e9b6e8>\"\u001b[1;36m, line \u001b[1;32m1\u001b[0m\n\u001b[1;33m    <input type=\"button\" value=\"我是按钮,点我点我\">\u001b[0m\n\u001b[1;37m    ^\u001b[0m\n\u001b[1;31mSyntaxError\u001b[0m\u001b[1;31m:\u001b[0m invalid syntax\n"
     ]
    }
   ],
   "source": [
    "<input type=\"button\" value=\"我是按钮,点我点我\">"
   ]
  },
  {
   "cell_type": "markdown",
   "id": "f33da423-5443-470f-8e8c-4d294b23c565",
   "metadata": {},
   "source": [
    "还是惯例，你也可以把下面这一段全部复制然后粘贴到“index.html“并保存。少打点字不会影响我们学习编程。"
   ]
  },
  {
   "cell_type": "code",
   "execution_count": 7,
   "id": "0d4f1d84-d082-41fb-8465-714f7539e2a3",
   "metadata": {},
   "outputs": [
    {
     "ename": "SyntaxError",
     "evalue": "invalid syntax (<ipython-input-7-2f5e2a93e58d>, line 1)",
     "output_type": "error",
     "traceback": [
      "\u001b[1;36m  File \u001b[1;32m\"<ipython-input-7-2f5e2a93e58d>\"\u001b[1;36m, line \u001b[1;32m1\u001b[0m\n\u001b[1;33m    <!DOCTYPE html>\u001b[0m\n\u001b[1;37m    ^\u001b[0m\n\u001b[1;31mSyntaxError\u001b[0m\u001b[1;31m:\u001b[0m invalid syntax\n"
     ]
    }
   ],
   "source": [
    "<!DOCTYPE html>\n",
    "<html>\n",
    "\t<head>\n",
    "\t\t<meta charset=\"utf-8\">\n",
    "\t\t<title>Hello World 1</title>\n",
    "\t</head>\n",
    "\t<body>\n",
    "\t\t<p>Hello World 2</p>\n",
    "\t\t<input type=\"button\" value=\"我是按钮,点我点我\">\n",
    "\t\t<script>\n",
    "\t\t\t\talert('Hello World 3');\n",
    "\t\t</script>\n",
    "\t</body>\n",
    "</html>"
   ]
  },
  {
   "cell_type": "markdown",
   "id": "8d752a02-c61a-4d7d-8fa3-47dde7aff79f",
   "metadata": {},
   "source": [
    "然后双击“index.html“在浏览器运行，有没有看到一个很有存在感的按钮，就在“Hello World 2“下面。\n",
    "\n",
    "点了它没？"
   ]
  },
  {
   "cell_type": "markdown",
   "id": "844e1892-1a7a-4e58-a99e-d1f6040c70e8",
   "metadata": {},
   "source": [
    "![](images/button1.png)"
   ]
  },
  {
   "cell_type": "markdown",
   "id": "8572a9e3-3446-4f9c-b670-c3f4a41075c3",
   "metadata": {},
   "source": [
    "是不是一点反应都没有？\n",
    "但是先不要着急，我们保证在这一章内就让它有反应，在此前我们必须要学一个非常重要的东西：\n",
    "\n",
    "注释\n",
    "\n",
    "就是下面这样的东西："
   ]
  },
  {
   "cell_type": "code",
   "execution_count": 9,
   "id": "be7ef2bf-7adc-4cf2-bcfc-f70c05acfb9a",
   "metadata": {},
   "outputs": [
    {
     "ename": "SyntaxError",
     "evalue": "invalid syntax (<ipython-input-9-19158709b1d2>, line 1)",
     "output_type": "error",
     "traceback": [
      "\u001b[1;36m  File \u001b[1;32m\"<ipython-input-9-19158709b1d2>\"\u001b[1;36m, line \u001b[1;32m1\u001b[0m\n\u001b[1;33m    <!-- 这里面是注释 -->\u001b[0m\n\u001b[1;37m    ^\u001b[0m\n\u001b[1;31mSyntaxError\u001b[0m\u001b[1;31m:\u001b[0m invalid syntax\n"
     ]
    }
   ],
   "source": [
    "<!-- 这里面是注释 -->\n",
    "// 双斜杠后面也是注释"
   ]
  },
  {
   "cell_type": "markdown",
   "id": "6ed015ec-e089-434d-a802-04d3bcaee62f",
   "metadata": {},
   "source": [
    "注释内容，电脑会直接无视，所以这样的文字是专门写给人看的。\n",
    "\n",
    "注释很重要很重要。\n",
    "\n",
    "但我现在透露你一个行业机密：\n",
    ">很多程序员都<b>不</b>写注释！"
   ]
  },
  {
   "cell_type": "markdown",
   "id": "f75b0ec0-dab5-45cb-bbc3-c2eeaed28e05",
   "metadata": {},
   "source": [
    "这个简直是灾难！\n",
    "毕竟注释跟程序运行本身无关。这些程序员会觉得，注释写给别人看的，反正这段代码能够运行起来就好，别人看不看得懂无所谓，别人也不一定会看。\n",
    "\n",
    "实际上，注释很多时候是写给自己看的。\n",
    "\n",
    "想不到吧，程序员很多时候会看不懂自己写的代码，所以我们需要注释来告诉自己这段代码是什么意思。"
   ]
  },
  {
   "cell_type": "markdown",
   "id": "09089e5e-630d-486a-85ae-e0fd867e1638",
   "metadata": {},
   "source": [
    "加好了注释，代码长这样："
   ]
  },
  {
   "cell_type": "code",
   "execution_count": 11,
   "id": "c1ea11e0-5768-498d-864b-e1968b7d2b32",
   "metadata": {},
   "outputs": [
    {
     "ename": "SyntaxError",
     "evalue": "invalid syntax (<ipython-input-11-c8f3959b4f8d>, line 1)",
     "output_type": "error",
     "traceback": [
      "\u001b[1;36m  File \u001b[1;32m\"<ipython-input-11-c8f3959b4f8d>\"\u001b[1;36m, line \u001b[1;32m1\u001b[0m\n\u001b[1;33m    <!DOCTYPE html>\u001b[0m\n\u001b[1;37m    ^\u001b[0m\n\u001b[1;31mSyntaxError\u001b[0m\u001b[1;31m:\u001b[0m invalid syntax\n"
     ]
    }
   ],
   "source": [
    "<!DOCTYPE html>\n",
    "<!-- JavaScript是写在这样的HTML文档里的，HTML最前面要写这个是规定动作 -->\n",
    "<html>\n",
    "<!-- 这个<html>标签表示HTML语言段落的开始 -->\n",
    "\t<head>\n",
    "\t<!-- head就是头，这是这段代码的头部 -->\n",
    "\t\t<meta charset=\"utf-8\">\n",
    "\t\t<!-- <meta> 表示一些声明，这里是说我们这个网页使用的字符集是UTF-8 -->\n",
    "\t\t<title>Hello World 1</title>\n",
    "\t\t<!-- Hello World 1 注意看它出现在哪里 -->\n",
    "\t</head><!-- 头部的结束 -->\n",
    "\t<body><!-- 身体 -->\n",
    "\t\t<p>Hello World 2</p>\n",
    "\t\t<!-- Hello World 2 注意看它出现在哪里 -->\n",
    "\t\t<input type=\"button\" value=\"我是按钮,点我点我\">\n",
    "\t\t<!-- 上面就是我们刚加的按钮 -->\n",
    "\t\t<script>\n",
    "\t\talert('Hello World 3'); // Hello World 3 注意看它出现在哪里\n",
    "\t\t</script>\n",
    "\t</body><!-- 身体的结束 -->\n",
    "</html><!-- 这个标签表示HTML语言段落的结束 -->"
   ]
  },
  {
   "cell_type": "markdown",
   "id": "7bcb8122-c11d-40de-a67f-1180e92e4b62",
   "metadata": {},
   "source": [
    "你可以全文复制粘贴也可以自己随便写点注释再运行一次。\n",
    "\n",
    "（关上文本编辑器，双击文件在浏览器里打开。）\n",
    "\n",
    "是不是发现运行结果和前言里面的一模一样。我们加的注释对计算机解读程序一点干涉都没有。"
   ]
  },
  {
   "cell_type": "markdown",
   "id": "9d5e02fa-2c79-49b1-a9df-9eceb99a6515",
   "metadata": {},
   "source": [
    ">特别声明：本教程绝不会出纸质版，所以本教程大量重复地引用同样的代码并不会浪费太多资源。这样做的目的主要是为了方便读者只要复制粘贴就可以一步一步地完成我们的学习目标，不需要把页面翻前翻后的。这是作者完全放弃纸质书后对电子书优势的充分利用。（当然不是为了水字数。括符笑）"
   ]
  },
  {
   "cell_type": "markdown",
   "id": "2eab9f00-b0fa-4f3b-a4aa-4bf52ad2edc3",
   "metadata": {},
   "source": [
    "现在我们来看一下这段代码以及注释。\n",
    "\n",
    "这个被<html>和</html>框起来的几行英文也是一种编程语言，简称 HTML 语言，HyperText Markup Language，中文叫“超文本标记语言”。它不是我们要学的 JavaScript。\n",
    "\n",
    "但是 JavaScript 不能离开它独自运行（严格说来有时候可以但是本教程不会覆盖到这个范围）。\n",
    "\n",
    "我们以后还会接触到 CSS 文件，Cascading Style Sheets，层叠样式表。\n",
    "\n",
    "是不是突然觉得有点复杂了。说好的学 JavaScript，怎么一下来了三种语言。\n",
    "\n",
    "莫要慌张，本教程会把复杂问题简单化。\n",
    "\n",
    "回过头一看本章已经写了够多文字了，都还没有再次给用户及时的正反馈，我决定把这三种语言的介绍放到下一章，我们现在来让刚刚的按钮反应点什么。"
   ]
  },
  {
   "cell_type": "markdown",
   "id": "e6c9d3b4-01e7-45ea-ab21-b07a5994769b",
   "metadata": {},
   "source": [
    "![](images/button2.png)"
   ]
  },
  {
   "cell_type": "markdown",
   "id": "963689fd-1e53-4852-a42f-0f52971be8c9",
   "metadata": {},
   "source": [
    "反应什么呢？\n",
    "\n",
    "不是每次打开“index.html”都会弹出一个消息框吗？这个有点烦人吧？\n",
    "\n",
    "我们现在改成点这个按钮，才弹出这个消息框。"
   ]
  },
  {
   "cell_type": "markdown",
   "id": "19084d2f-0799-459e-94b6-9f545cc8292a",
   "metadata": {},
   "source": [
    "这里要让该按钮反应，需要引入函数的概念。\n",
    ">跟外面那些自称“入门”却又在前面教大量“必要的基础知识”，造成的结果是让读者一直在入门处徘徊的教程不同，我们第一章就学函数。并且，让我们大声说出来：编程真的太简单了！"
   ]
  },
  {
   "cell_type": "markdown",
   "id": "c6906c75-ab84-48dd-ad3a-cfeea8b92ee2",
   "metadata": {},
   "source": [
    "现在请把“alert('Hello World 3');”这一句，用这个函数包裹起来："
   ]
  },
  {
   "cell_type": "code",
   "execution_count": 12,
   "id": "ce79ff6b-915c-4843-8199-e487439813a3",
   "metadata": {},
   "outputs": [
    {
     "ename": "SyntaxError",
     "evalue": "invalid syntax (<ipython-input-12-c05d30d6bb43>, line 1)",
     "output_type": "error",
     "traceback": [
      "\u001b[1;36m  File \u001b[1;32m\"<ipython-input-12-c05d30d6bb43>\"\u001b[1;36m, line \u001b[1;32m1\u001b[0m\n\u001b[1;33m    function test(){//把第三个 Hello World装进函数（function）里。\u001b[0m\n\u001b[1;37m             ^\u001b[0m\n\u001b[1;31mSyntaxError\u001b[0m\u001b[1;31m:\u001b[0m invalid syntax\n"
     ]
    }
   ],
   "source": [
    "function test(){//把第三个 Hello World装进函数（function）里。\n",
    "//这里面应该是alert('Hello World 3');\n",
    "}//这个花括号表示函数的结尾。"
   ]
  },
  {
   "cell_type": "markdown",
   "id": "082e4490-1f71-4b3b-9380-713cd7d2d0b0",
   "metadata": {},
   "source": [
    "函数就长这个样子。\n",
    "\n",
    "“function”开头，表示一种声明，告诉电脑，我接下来要写个函数。\n",
    "\n",
    "那接下来我们就写个叫“test”的函数。JavaScript 这门语言规定的函数格式是这样的："
   ]
  },
  {
   "cell_type": "code",
   "execution_count": 13,
   "id": "5ae6e905-a4d8-426d-af4e-793f280f6cf5",
   "metadata": {},
   "outputs": [
    {
     "ename": "SyntaxError",
     "evalue": "invalid syntax (<ipython-input-13-6f3b239be293>, line 1)",
     "output_type": "error",
     "traceback": [
      "\u001b[1;36m  File \u001b[1;32m\"<ipython-input-13-6f3b239be293>\"\u001b[1;36m, line \u001b[1;32m1\u001b[0m\n\u001b[1;33m    函数名(){要执行的语句}\u001b[0m\n\u001b[1;37m         ^\u001b[0m\n\u001b[1;31mSyntaxError\u001b[0m\u001b[1;31m:\u001b[0m invalid syntax\n"
     ]
    }
   ],
   "source": [
    "函数名(){要执行的语句}"
   ]
  },
  {
   "cell_type": "markdown",
   "id": "013c8c9d-b9b3-456f-9583-c5e9aa3562d5",
   "metadata": {},
   "source": [
    "所以这里的函数名我们随便取一个名字，因为想试一试，就叫“test”，括号就空着先，以后有用。\n",
    "\n",
    "要执行的语句是那句“alert('Hello World 3');”。\n",
    "\n",
    "“alert”的意思就是警告。计算机执行这个“alert”的方式就是弹出消息框。括号里的文字就是消息框的内容。比如，我们举行“Hello World”仪式的时候网页上弹出的消息框，上面写了“Hello World 3”。\n",
    "\n",
    "让我们把这个测试用的函数写完整："
   ]
  },
  {
   "cell_type": "code",
   "execution_count": 15,
   "id": "bdab167a-8019-42f7-ba0b-661ca8954572",
   "metadata": {},
   "outputs": [
    {
     "ename": "SyntaxError",
     "evalue": "invalid syntax (<ipython-input-15-a468b5d36f7d>, line 1)",
     "output_type": "error",
     "traceback": [
      "\u001b[1;36m  File \u001b[1;32m\"<ipython-input-15-a468b5d36f7d>\"\u001b[1;36m, line \u001b[1;32m1\u001b[0m\n\u001b[1;33m    function test(){//把第三个 Hello World装进函数（function）里。\u001b[0m\n\u001b[1;37m             ^\u001b[0m\n\u001b[1;31mSyntaxError\u001b[0m\u001b[1;31m:\u001b[0m invalid syntax\n"
     ]
    }
   ],
   "source": [
    "function test(){//把第三个 Hello World装进函数（function）里。\n",
    "\talert('Hello World 3');//把这个弹窗语句包进了 test 函数。\n",
    "}//这个花括号表示函数的结尾。"
   ]
  },
  {
   "cell_type": "markdown",
   "id": "e9aab90f-3b55-467a-befb-b9677d6e3b2b",
   "metadata": {},
   "source": [
    "![](images/button3.png)"
   ]
  },
  {
   "cell_type": "markdown",
   "id": "233e5651-795c-47b3-8de1-550bd56525e1",
   "metadata": {},
   "source": [
    "于是我们来看关于按钮的这一句："
   ]
  },
  {
   "cell_type": "code",
   "execution_count": 17,
   "id": "887a249a-1f09-470d-b9ec-91d587666159",
   "metadata": {},
   "outputs": [
    {
     "ename": "SyntaxError",
     "evalue": "invalid syntax (<ipython-input-17-0c7b71e9b6e8>, line 1)",
     "output_type": "error",
     "traceback": [
      "\u001b[1;36m  File \u001b[1;32m\"<ipython-input-17-0c7b71e9b6e8>\"\u001b[1;36m, line \u001b[1;32m1\u001b[0m\n\u001b[1;33m    <input type=\"button\" value=\"我是按钮,点我点我\">\u001b[0m\n\u001b[1;37m    ^\u001b[0m\n\u001b[1;31mSyntaxError\u001b[0m\u001b[1;31m:\u001b[0m invalid syntax\n"
     ]
    }
   ],
   "source": [
    "<input type=\"button\" value=\"我是按钮,点我点我\">"
   ]
  },
  {
   "cell_type": "markdown",
   "id": "bb79a865-5f26-436f-8e08-eaa2fdd1db34",
   "metadata": {},
   "source": [
    "仔细看是不是很好懂？\n",
    "\n",
    "<input> 标签，就是输入的意思啊。\n",
    "\n",
    "里面写着“type=\"button\"”，翻译成中文意思不就是：类型是按钮？\n",
    "\n",
    "“value=\"我是按钮，点我点我\"“，不就是按钮上面写的字吗？\n",
    "\n",
    "这个按钮还缺个什么？\n",
    "\n",
    "缺少，点它之后要干啥的指令！\n",
    "\n",
    "我们刚刚写的函数叫做“test()“，这个指令我们用中文来描述：点我就调用“test()”函数。\n",
    "\n",
    "翻译给计算机就是这句："
   ]
  },
  {
   "cell_type": "code",
   "execution_count": 18,
   "id": "521926b8-1fa2-4670-acda-8db37ec16497",
   "metadata": {},
   "outputs": [],
   "source": [
    "onclick=\"test()\""
   ]
  },
  {
   "cell_type": "markdown",
   "id": "0e0ba7a1-1a64-4b46-be37-3e1891695574",
   "metadata": {},
   "source": [
    "看吧，编程就是这么简单，加好之后按钮的标签语句长这样："
   ]
  },
  {
   "cell_type": "code",
   "execution_count": 19,
   "id": "a0500676-ef9d-4af8-801a-a3b1d3e685fa",
   "metadata": {},
   "outputs": [
    {
     "ename": "SyntaxError",
     "evalue": "invalid syntax (<ipython-input-19-013a4ab6ba5e>, line 1)",
     "output_type": "error",
     "traceback": [
      "\u001b[1;36m  File \u001b[1;32m\"<ipython-input-19-013a4ab6ba5e>\"\u001b[1;36m, line \u001b[1;32m1\u001b[0m\n\u001b[1;33m    <input type=\"button\" value=\"我是按钮,点我点我\" onclick=\"test()\">\u001b[0m\n\u001b[1;37m    ^\u001b[0m\n\u001b[1;31mSyntaxError\u001b[0m\u001b[1;31m:\u001b[0m invalid syntax\n"
     ]
    }
   ],
   "source": [
    "<input type=\"button\" value=\"我是按钮,点我点我\" onclick=\"test()\">"
   ]
  },
  {
   "cell_type": "code",
   "execution_count": 20,
   "id": "a7486a99-3dd3-4b45-b982-d28d02410e65",
   "metadata": {},
   "outputs": [
    {
     "ename": "SyntaxError",
     "evalue": "invalid syntax (<ipython-input-20-013a4ab6ba5e>, line 1)",
     "output_type": "error",
     "traceback": [
      "\u001b[1;36m  File \u001b[1;32m\"<ipython-input-20-013a4ab6ba5e>\"\u001b[1;36m, line \u001b[1;32m1\u001b[0m\n\u001b[1;33m    <input type=\"button\" value=\"我是按钮,点我点我\" onclick=\"test()\">\u001b[0m\n\u001b[1;37m    ^\u001b[0m\n\u001b[1;31mSyntaxError\u001b[0m\u001b[1;31m:\u001b[0m invalid syntax\n"
     ]
    }
   ],
   "source": [
    "<input type=\"button\" value=\"我是按钮,点我点我\" onclick=\"test()\">"
   ]
  },
  {
   "cell_type": "markdown",
   "id": "0b0a14d6-08f7-4e53-a4e4-d5e3c5eca216",
   "metadata": {},
   "source": [
    "惯例，自己加或者全文复制下面的内容到“index.html”并保存："
   ]
  },
  {
   "cell_type": "code",
   "execution_count": 21,
   "id": "c77250ad-c8f3-4eff-a446-41aa0e1d7bb3",
   "metadata": {},
   "outputs": [
    {
     "ename": "SyntaxError",
     "evalue": "invalid character in identifier (<ipython-input-21-ac03414452c2>, line 1)",
     "output_type": "error",
     "traceback": [
      "\u001b[1;36m  File \u001b[1;32m\"<ipython-input-21-ac03414452c2>\"\u001b[1;36m, line \u001b[1;32m1\u001b[0m\n\u001b[1;33m    惯例，自己加或者全文复制下面的内容到“index.html”并保存：\u001b[0m\n\u001b[1;37m                           ^\u001b[0m\n\u001b[1;31mSyntaxError\u001b[0m\u001b[1;31m:\u001b[0m invalid character in identifier\n"
     ]
    }
   ],
   "source": [
    "惯例，自己加或者全文复制下面的内容到“index.html”并保存："
   ]
  },
  {
   "cell_type": "markdown",
   "id": "2220c925-a6e6-4d99-a034-667cfba76a10",
   "metadata": {},
   "source": [
    "双击“index.html“文件运行。\n",
    "\n",
    "如果没有出错，现在点那个按钮应该有反应了，会弹出一个写着“Hello World 3”的消息弹窗。"
   ]
  },
  {
   "cell_type": "markdown",
   "id": "b9407973-4947-4bef-bf4f-cf5defc64675",
   "metadata": {},
   "source": [
    "#### 第一章到此为止，总结如下：\n",
    "\n",
    "#### 1. 学了注释。\n",
    "#### 2. 学了函数。\n",
    "#### 3. 暂时没有学 HTML 标签语言，但提前用它写了一个按钮然后让按钮被点击后调用 JavaScript 函数。"
   ]
  },
  {
   "cell_type": "code",
   "execution_count": null,
   "id": "3bdf847d-3067-430f-95c5-b8c8067aa32e",
   "metadata": {},
   "outputs": [],
   "source": []
  }
 ],
 "metadata": {
  "kernelspec": {
   "display_name": "Python 3",
   "language": "python",
   "name": "python3"
  },
  "language_info": {
   "codemirror_mode": {
    "name": "ipython",
    "version": 3
   },
   "file_extension": ".py",
   "mimetype": "text/x-python",
   "name": "python",
   "nbconvert_exporter": "python",
   "pygments_lexer": "ipython3",
   "version": "3.8.8"
  }
 },
 "nbformat": 4,
 "nbformat_minor": 5
}
